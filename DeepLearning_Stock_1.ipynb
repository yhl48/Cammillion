{
 "cells": [
  {
   "cell_type": "code",
   "execution_count": 1,
   "metadata": {
    "collapsed": false
   },
   "outputs": [
    {
     "name": "stderr",
     "output_type": "stream",
     "text": [
      "Using TensorFlow backend.\n"
     ]
    }
   ],
   "source": [
    "import tensorflow as tf\n",
    "import numpy as np \n",
    "import pandas as pd\n",
    "import scipy.io as sio\n",
    "from sklearn.preprocessing import OneHotEncoder\n",
    "from sklearn.metrics import accuracy_score\n",
    "from sklearn.preprocessing import StandardScaler\n",
    "from keras.models import Sequential\n",
    "from keras.layers import Dense\n",
    "import matplotlib.pyplot as plt\n",
    "\n",
    "%matplotlib inline"
   ]
  },
  {
   "cell_type": "markdown",
   "metadata": {},
   "source": [
    "# Data Processing"
   ]
  },
  {
   "cell_type": "code",
   "execution_count": 2,
   "metadata": {
    "collapsed": false
   },
   "outputs": [],
   "source": [
    "# only for one stock\n",
    "cleaned_close = sio.loadmat('../Pcleaned.mat')['P']\n",
    "macd = pd.read_csv('../macd.csv').dropna()\n",
    "rsi = pd.read_csv('../rsi.csv').dropna()\n",
    "momentum = pd.read_csv('../momentum.csv').dropna()"
   ]
  },
  {
   "cell_type": "code",
   "execution_count": 3,
   "metadata": {
    "collapsed": false
   },
   "outputs": [],
   "source": [
    "cleaned_close_stock_1 = cleaned_close[:, 0].reshape(-1,4)\n",
    "sell_indices = np.argmax(cleaned_close_stock_1, axis=1)\n",
    "buy_indices = np.argmin(cleaned_close_stock_1, axis=1)\n",
    "# buy=-1, hold=0, sell=1, \n",
    "labels = np.zeros(cleaned_close_stock_1.shape)\n",
    "labels[np.arange(len(cleaned_close_stock_1)), sell_indices] = int(2)\n",
    "labels[np.arange(len(cleaned_close_stock_1)), buy_indices] = int(1)\n",
    "cleaned_close_stock_1_df = pd.DataFrame({'Close': cleaned_close[:, 0], \n",
    "                                         'Label': labels.flatten()})"
   ]
  },
  {
   "cell_type": "code",
   "execution_count": 4,
   "metadata": {
    "collapsed": true
   },
   "outputs": [],
   "source": [
    "def label_race(row):\n",
    "    if row['Label'] == 2.0 :\n",
    "        return 'Sell'\n",
    "    elif row['Label'] == 0.0 :\n",
    "        return 'Hold'\n",
    "    elif row['Label'] == 1.0 :\n",
    "        return 'Buy'"
   ]
  },
  {
   "cell_type": "code",
   "execution_count": 5,
   "metadata": {
    "collapsed": false
   },
   "outputs": [],
   "source": [
    "cleaned_close_stock_1_df['Action'] = cleaned_close_stock_1_df.apply(lambda row: \n",
    "                                                            label_race(row), axis=1)"
   ]
  },
  {
   "cell_type": "code",
   "execution_count": 6,
   "metadata": {
    "collapsed": false
   },
   "outputs": [
    {
     "data": {
      "text/html": [
       "<div>\n",
       "<style scoped>\n",
       "    .dataframe tbody tr th:only-of-type {\n",
       "        vertical-align: middle;\n",
       "    }\n",
       "\n",
       "    .dataframe tbody tr th {\n",
       "        vertical-align: top;\n",
       "    }\n",
       "\n",
       "    .dataframe thead th {\n",
       "        text-align: right;\n",
       "    }\n",
       "</style>\n",
       "<table border=\"1\" class=\"dataframe\">\n",
       "  <thead>\n",
       "    <tr style=\"text-align: right;\">\n",
       "      <th></th>\n",
       "      <th>Close</th>\n",
       "      <th>Label</th>\n",
       "      <th>Action</th>\n",
       "    </tr>\n",
       "  </thead>\n",
       "  <tbody>\n",
       "    <tr>\n",
       "      <th>0</th>\n",
       "      <td>11.36</td>\n",
       "      <td>2.0</td>\n",
       "      <td>Sell</td>\n",
       "    </tr>\n",
       "    <tr>\n",
       "      <th>1</th>\n",
       "      <td>11.32</td>\n",
       "      <td>0.0</td>\n",
       "      <td>Hold</td>\n",
       "    </tr>\n",
       "    <tr>\n",
       "      <th>2</th>\n",
       "      <td>10.88</td>\n",
       "      <td>0.0</td>\n",
       "      <td>Hold</td>\n",
       "    </tr>\n",
       "    <tr>\n",
       "      <th>3</th>\n",
       "      <td>10.82</td>\n",
       "      <td>1.0</td>\n",
       "      <td>Buy</td>\n",
       "    </tr>\n",
       "    <tr>\n",
       "      <th>4</th>\n",
       "      <td>10.98</td>\n",
       "      <td>0.0</td>\n",
       "      <td>Hold</td>\n",
       "    </tr>\n",
       "  </tbody>\n",
       "</table>\n",
       "</div>"
      ],
      "text/plain": [
       "   Close  Label Action\n",
       "0  11.36    2.0   Sell\n",
       "1  11.32    0.0   Hold\n",
       "2  10.88    0.0   Hold\n",
       "3  10.82    1.0    Buy\n",
       "4  10.98    0.0   Hold"
      ]
     },
     "execution_count": 6,
     "metadata": {},
     "output_type": "execute_result"
    }
   ],
   "source": [
    "cleaned_close_stock_1_df.head()"
   ]
  },
  {
   "cell_type": "markdown",
   "metadata": {},
   "source": [
    "## Train Test Split"
   ]
  },
  {
   "cell_type": "code",
   "execution_count": 7,
   "metadata": {
    "collapsed": true
   },
   "outputs": [],
   "source": [
    "train_proportion = 0.9"
   ]
  },
  {
   "cell_type": "code",
   "execution_count": 8,
   "metadata": {
    "collapsed": false
   },
   "outputs": [],
   "source": [
    "ytrain_data_stock_1 = cleaned_close_stock_1_df[25:int(train_proportion*len(cleaned_close_stock_1_df))]['Label'].values\n",
    "ytest_data_stock_1 = cleaned_close_stock_1_df[int(train_proportion*len(cleaned_close_stock_1_df)):-1]['Label'].values\n",
    "\n",
    "xtrain_rsi = rsi[0:int(train_proportion*len(cleaned_close_stock_1_df))-25]['RelativeStrengthIndex'].values\n",
    "xtest_rsi = rsi[int(train_proportion*len(cleaned_close_stock_1_df))-25:-1]['RelativeStrengthIndex'].values\n",
    "\n",
    "xtrain_macd = macd[0:int(train_proportion*len(cleaned_close_stock_1_df))-25]['Close'].values\n",
    "xtest_macd = macd[int(train_proportion*len(cleaned_close_stock_1_df))-25:-1]['Close'].values\n",
    "\n",
    "xtrain_momentum = momentum[0:int(train_proportion*len(cleaned_close_stock_1_df))-25]['Close'].values\n",
    "xtest_momentum = momentum[int(train_proportion*len(cleaned_close_stock_1_df))-25:-1]['Close'].values"
   ]
  },
  {
   "cell_type": "code",
   "execution_count": 9,
   "metadata": {
    "collapsed": false
   },
   "outputs": [],
   "source": [
    "ohe = OneHotEncoder(categories='auto')\n",
    "ytrain_data_stock_1 = ytrain_data_stock_1.reshape(-1, 1)\n",
    "ytrain_data_stock_1 = ohe.fit_transform(ytrain_data_stock_1).toarray()\n",
    "ytest_data_stock_1 = ytest_data_stock_1.reshape(-1, 1)\n",
    "ytest_data_stock_1 = ohe.fit_transform(ytest_data_stock_1).toarray()"
   ]
  },
  {
   "cell_type": "code",
   "execution_count": 10,
   "metadata": {
    "collapsed": false
   },
   "outputs": [],
   "source": [
    "X_train = np.array([xtrain_rsi, xtrain_macd, xtrain_momentum]).reshape(-1, 3)\n",
    "X_test = np.array([xtest_rsi, xtest_macd, xtest_momentum]).reshape(-1, 3)"
   ]
  },
  {
   "cell_type": "code",
   "execution_count": 11,
   "metadata": {
    "collapsed": true
   },
   "outputs": [],
   "source": [
    "scaler_X_train = StandardScaler()\n",
    "X_train = scaler_X_train.fit_transform(X_train)\n",
    "\n",
    "scaler_X_test = StandardScaler()\n",
    "X_test = scaler_X_test.fit_transform(X_test)"
   ]
  },
  {
   "cell_type": "code",
   "execution_count": 12,
   "metadata": {
    "collapsed": false
   },
   "outputs": [
    {
     "data": {
      "text/plain": [
       "(1479, 3)"
      ]
     },
     "execution_count": 12,
     "metadata": {},
     "output_type": "execute_result"
    }
   ],
   "source": [
    "X_train.shape"
   ]
  },
  {
   "cell_type": "markdown",
   "metadata": {},
   "source": [
    "# Neural Network"
   ]
  },
  {
   "cell_type": "code",
   "execution_count": 13,
   "metadata": {
    "collapsed": false
   },
   "outputs": [],
   "source": [
    "model = Sequential()\n",
    "model.add(Dense(16, input_dim=3, activation='relu'))\n",
    "model.add(Dense(8, activation='relu'))\n",
    "model.add(Dense(3, activation='softmax'))"
   ]
  },
  {
   "cell_type": "code",
   "execution_count": 14,
   "metadata": {
    "collapsed": false
   },
   "outputs": [],
   "source": [
    "model.compile(loss='categorical_crossentropy', optimizer='adam', metrics=['accuracy'])"
   ]
  },
  {
   "cell_type": "code",
   "execution_count": 15,
   "metadata": {
    "collapsed": false
   },
   "outputs": [
    {
     "name": "stdout",
     "output_type": "stream",
     "text": [
      "Train on 1479 samples, validate on 167 samples\n",
      "Epoch 1/100\n",
      "1479/1479 [==============================] - 0s 318us/step - loss: 1.0648 - acc: 0.5003 - val_loss: 1.0550 - val_acc: 0.5090\n",
      "Epoch 2/100\n",
      "1479/1479 [==============================] - 0s 43us/step - loss: 1.0519 - acc: 0.5003 - val_loss: 1.0468 - val_acc: 0.5090\n",
      "Epoch 3/100\n",
      "1479/1479 [==============================] - 0s 45us/step - loss: 1.0467 - acc: 0.5003 - val_loss: 1.0419 - val_acc: 0.5090\n",
      "Epoch 4/100\n",
      "1479/1479 [==============================] - 0s 46us/step - loss: 1.0441 - acc: 0.5003 - val_loss: 1.0417 - val_acc: 0.5090\n",
      "Epoch 5/100\n",
      "1479/1479 [==============================] - 0s 46us/step - loss: 1.0436 - acc: 0.5003 - val_loss: 1.0392 - val_acc: 0.5090\n",
      "Epoch 6/100\n",
      "1479/1479 [==============================] - 0s 50us/step - loss: 1.0421 - acc: 0.5003 - val_loss: 1.0392 - val_acc: 0.5090\n",
      "Epoch 7/100\n",
      "1479/1479 [==============================] - 0s 60us/step - loss: 1.0422 - acc: 0.5003 - val_loss: 1.0388 - val_acc: 0.5090\n",
      "Epoch 8/100\n",
      "1479/1479 [==============================] - 0s 51us/step - loss: 1.0418 - acc: 0.5003 - val_loss: 1.0388 - val_acc: 0.5090\n",
      "Epoch 9/100\n",
      "1479/1479 [==============================] - 0s 54us/step - loss: 1.0417 - acc: 0.5003 - val_loss: 1.0381 - val_acc: 0.5090\n",
      "Epoch 10/100\n",
      "1479/1479 [==============================] - 0s 55us/step - loss: 1.0417 - acc: 0.5003 - val_loss: 1.0378 - val_acc: 0.5090\n",
      "Epoch 11/100\n",
      "1479/1479 [==============================] - 0s 60us/step - loss: 1.0414 - acc: 0.5003 - val_loss: 1.0380 - val_acc: 0.5090\n",
      "Epoch 12/100\n",
      "1479/1479 [==============================] - 0s 66us/step - loss: 1.0414 - acc: 0.5003 - val_loss: 1.0378 - val_acc: 0.5090\n",
      "Epoch 13/100\n",
      "1479/1479 [==============================] - 0s 66us/step - loss: 1.0417 - acc: 0.5003 - val_loss: 1.0381 - val_acc: 0.5090\n",
      "Epoch 14/100\n",
      "1479/1479 [==============================] - 0s 58us/step - loss: 1.0422 - acc: 0.5003 - val_loss: 1.0377 - val_acc: 0.5090\n",
      "Epoch 15/100\n",
      "1479/1479 [==============================] - 0s 55us/step - loss: 1.0412 - acc: 0.5003 - val_loss: 1.0385 - val_acc: 0.5090\n",
      "Epoch 16/100\n",
      "1479/1479 [==============================] - 0s 63us/step - loss: 1.0414 - acc: 0.5003 - val_loss: 1.0377 - val_acc: 0.5090\n",
      "Epoch 17/100\n",
      "1479/1479 [==============================] - 0s 60us/step - loss: 1.0422 - acc: 0.5003 - val_loss: 1.0377 - val_acc: 0.5090\n",
      "Epoch 18/100\n",
      "1479/1479 [==============================] - 0s 61us/step - loss: 1.0414 - acc: 0.5003 - val_loss: 1.0379 - val_acc: 0.5090\n",
      "Epoch 19/100\n",
      "1479/1479 [==============================] - 0s 48us/step - loss: 1.0410 - acc: 0.5003 - val_loss: 1.0377 - val_acc: 0.5090\n",
      "Epoch 20/100\n",
      "1479/1479 [==============================] - 0s 55us/step - loss: 1.0408 - acc: 0.5003 - val_loss: 1.0377 - val_acc: 0.5090\n",
      "Epoch 21/100\n",
      "1479/1479 [==============================] - 0s 51us/step - loss: 1.0411 - acc: 0.5003 - val_loss: 1.0379 - val_acc: 0.5090\n",
      "Epoch 22/100\n",
      "1479/1479 [==============================] - 0s 47us/step - loss: 1.0408 - acc: 0.5003 - val_loss: 1.0373 - val_acc: 0.5090\n",
      "Epoch 23/100\n",
      "1479/1479 [==============================] - 0s 58us/step - loss: 1.0413 - acc: 0.5003 - val_loss: 1.0370 - val_acc: 0.5090\n",
      "Epoch 24/100\n",
      "1479/1479 [==============================] - 0s 52us/step - loss: 1.0412 - acc: 0.5003 - val_loss: 1.0373 - val_acc: 0.5090\n",
      "Epoch 25/100\n",
      "1479/1479 [==============================] - 0s 109us/step - loss: 1.0412 - acc: 0.5003 - val_loss: 1.0371 - val_acc: 0.5090\n",
      "Epoch 26/100\n",
      "1479/1479 [==============================] - 0s 73us/step - loss: 1.0412 - acc: 0.5003 - val_loss: 1.0383 - val_acc: 0.5090\n",
      "Epoch 27/100\n",
      "1479/1479 [==============================] - 0s 59us/step - loss: 1.0410 - acc: 0.5003 - val_loss: 1.0378 - val_acc: 0.5090\n",
      "Epoch 28/100\n",
      "1479/1479 [==============================] - 0s 52us/step - loss: 1.0414 - acc: 0.5003 - val_loss: 1.0385 - val_acc: 0.5090\n",
      "Epoch 29/100\n",
      "1479/1479 [==============================] - 0s 62us/step - loss: 1.0409 - acc: 0.5003 - val_loss: 1.0378 - val_acc: 0.5090\n",
      "Epoch 30/100\n",
      "1479/1479 [==============================] - 0s 48us/step - loss: 1.0407 - acc: 0.5003 - val_loss: 1.0375 - val_acc: 0.5090\n",
      "Epoch 31/100\n",
      "1479/1479 [==============================] - 0s 58us/step - loss: 1.0419 - acc: 0.5003 - val_loss: 1.0384 - val_acc: 0.5090\n",
      "Epoch 32/100\n",
      "1479/1479 [==============================] - 0s 62us/step - loss: 1.0413 - acc: 0.5003 - val_loss: 1.0372 - val_acc: 0.5090\n",
      "Epoch 33/100\n",
      "1479/1479 [==============================] - 0s 75us/step - loss: 1.0408 - acc: 0.5003 - val_loss: 1.0371 - val_acc: 0.5090\n",
      "Epoch 34/100\n",
      "1479/1479 [==============================] - 0s 65us/step - loss: 1.0406 - acc: 0.5003 - val_loss: 1.0375 - val_acc: 0.5090\n",
      "Epoch 35/100\n",
      "1479/1479 [==============================] - 0s 52us/step - loss: 1.0404 - acc: 0.5003 - val_loss: 1.0369 - val_acc: 0.5090\n",
      "Epoch 36/100\n",
      "1479/1479 [==============================] - 0s 50us/step - loss: 1.0407 - acc: 0.5003 - val_loss: 1.0373 - val_acc: 0.5090\n",
      "Epoch 37/100\n",
      "1479/1479 [==============================] - 0s 136us/step - loss: 1.0405 - acc: 0.5003 - val_loss: 1.0371 - val_acc: 0.5090\n",
      "Epoch 38/100\n",
      "1479/1479 [==============================] - 0s 106us/step - loss: 1.0405 - acc: 0.5003 - val_loss: 1.0369 - val_acc: 0.5090\n",
      "Epoch 39/100\n",
      "1479/1479 [==============================] - 0s 122us/step - loss: 1.0409 - acc: 0.5003 - val_loss: 1.0370 - val_acc: 0.5090\n",
      "Epoch 40/100\n",
      "1479/1479 [==============================] - 0s 103us/step - loss: 1.0403 - acc: 0.5003 - val_loss: 1.0370 - val_acc: 0.5090\n",
      "Epoch 41/100\n",
      "1479/1479 [==============================] - 0s 50us/step - loss: 1.0406 - acc: 0.5003 - val_loss: 1.0371 - val_acc: 0.5090\n",
      "Epoch 42/100\n",
      "1479/1479 [==============================] - 0s 32us/step - loss: 1.0406 - acc: 0.5003 - val_loss: 1.0371 - val_acc: 0.5090\n",
      "Epoch 43/100\n",
      "1479/1479 [==============================] - 0s 32us/step - loss: 1.0405 - acc: 0.5003 - val_loss: 1.0374 - val_acc: 0.5090\n",
      "Epoch 44/100\n",
      "1479/1479 [==============================] - 0s 32us/step - loss: 1.0406 - acc: 0.5003 - val_loss: 1.0372 - val_acc: 0.5090\n",
      "Epoch 45/100\n",
      "1479/1479 [==============================] - 0s 32us/step - loss: 1.0409 - acc: 0.5003 - val_loss: 1.0377 - val_acc: 0.5090\n",
      "Epoch 46/100\n",
      "1479/1479 [==============================] - 0s 34us/step - loss: 1.0402 - acc: 0.5003 - val_loss: 1.0372 - val_acc: 0.5090\n",
      "Epoch 47/100\n",
      "1479/1479 [==============================] - 0s 33us/step - loss: 1.0407 - acc: 0.5003 - val_loss: 1.0380 - val_acc: 0.5090\n",
      "Epoch 48/100\n",
      "1479/1479 [==============================] - 0s 32us/step - loss: 1.0408 - acc: 0.5003 - val_loss: 1.0373 - val_acc: 0.5090\n",
      "Epoch 49/100\n",
      "1479/1479 [==============================] - 0s 32us/step - loss: 1.0403 - acc: 0.5003 - val_loss: 1.0370 - val_acc: 0.5090\n",
      "Epoch 50/100\n",
      "1479/1479 [==============================] - 0s 33us/step - loss: 1.0406 - acc: 0.5003 - val_loss: 1.0371 - val_acc: 0.5090\n",
      "Epoch 51/100\n",
      "1479/1479 [==============================] - 0s 37us/step - loss: 1.0406 - acc: 0.5003 - val_loss: 1.0374 - val_acc: 0.5090\n",
      "Epoch 52/100\n",
      "1479/1479 [==============================] - 0s 45us/step - loss: 1.0408 - acc: 0.5003 - val_loss: 1.0373 - val_acc: 0.5090\n",
      "Epoch 53/100\n",
      "1479/1479 [==============================] - 0s 51us/step - loss: 1.0400 - acc: 0.5003 - val_loss: 1.0372 - val_acc: 0.5090\n",
      "Epoch 54/100\n",
      "1479/1479 [==============================] - 0s 50us/step - loss: 1.0403 - acc: 0.5003 - val_loss: 1.0378 - val_acc: 0.5090\n",
      "Epoch 55/100\n",
      "1479/1479 [==============================] - 0s 34us/step - loss: 1.0404 - acc: 0.5003 - val_loss: 1.0374 - val_acc: 0.5090\n",
      "Epoch 56/100\n",
      "1479/1479 [==============================] - 0s 33us/step - loss: 1.0409 - acc: 0.5003 - val_loss: 1.0372 - val_acc: 0.5090\n",
      "Epoch 57/100\n",
      "1479/1479 [==============================] - 0s 33us/step - loss: 1.0405 - acc: 0.5003 - val_loss: 1.0376 - val_acc: 0.5090\n",
      "Epoch 58/100\n",
      "1479/1479 [==============================] - 0s 34us/step - loss: 1.0399 - acc: 0.5003 - val_loss: 1.0372 - val_acc: 0.5090\n",
      "Epoch 59/100\n",
      "1479/1479 [==============================] - 0s 33us/step - loss: 1.0406 - acc: 0.5003 - val_loss: 1.0378 - val_acc: 0.5090\n",
      "Epoch 60/100\n",
      "1479/1479 [==============================] - 0s 34us/step - loss: 1.0404 - acc: 0.5003 - val_loss: 1.0369 - val_acc: 0.5090\n",
      "Epoch 61/100\n",
      "1479/1479 [==============================] - 0s 33us/step - loss: 1.0400 - acc: 0.5003 - val_loss: 1.0370 - val_acc: 0.5090\n",
      "Epoch 62/100\n",
      "1479/1479 [==============================] - 0s 33us/step - loss: 1.0401 - acc: 0.5003 - val_loss: 1.0371 - val_acc: 0.5090\n",
      "Epoch 63/100\n",
      "1479/1479 [==============================] - 0s 34us/step - loss: 1.0403 - acc: 0.5003 - val_loss: 1.0370 - val_acc: 0.5090\n",
      "Epoch 64/100\n",
      "1479/1479 [==============================] - 0s 33us/step - loss: 1.0401 - acc: 0.5003 - val_loss: 1.0369 - val_acc: 0.5090\n",
      "Epoch 65/100\n",
      "1479/1479 [==============================] - 0s 34us/step - loss: 1.0400 - acc: 0.5003 - val_loss: 1.0369 - val_acc: 0.5090\n",
      "Epoch 66/100\n",
      "1479/1479 [==============================] - 0s 33us/step - loss: 1.0406 - acc: 0.5003 - val_loss: 1.0368 - val_acc: 0.5090\n",
      "Epoch 67/100\n",
      "1479/1479 [==============================] - 0s 34us/step - loss: 1.0400 - acc: 0.5003 - val_loss: 1.0372 - val_acc: 0.5090\n",
      "Epoch 68/100\n",
      "1479/1479 [==============================] - 0s 34us/step - loss: 1.0408 - acc: 0.5003 - val_loss: 1.0376 - val_acc: 0.5090\n",
      "Epoch 69/100\n",
      "1479/1479 [==============================] - 0s 35us/step - loss: 1.0397 - acc: 0.5003 - val_loss: 1.0373 - val_acc: 0.5090\n",
      "Epoch 70/100\n",
      "1479/1479 [==============================] - 0s 52us/step - loss: 1.0419 - acc: 0.5003 - val_loss: 1.0370 - val_acc: 0.5090\n",
      "Epoch 71/100\n",
      "1479/1479 [==============================] - 0s 35us/step - loss: 1.0404 - acc: 0.5003 - val_loss: 1.0375 - val_acc: 0.5090\n",
      "Epoch 72/100\n",
      "1479/1479 [==============================] - 0s 32us/step - loss: 1.0400 - acc: 0.5003 - val_loss: 1.0371 - val_acc: 0.5090\n",
      "Epoch 73/100\n",
      "1479/1479 [==============================] - 0s 33us/step - loss: 1.0398 - acc: 0.5003 - val_loss: 1.0376 - val_acc: 0.5090\n",
      "Epoch 74/100\n",
      "1479/1479 [==============================] - 0s 33us/step - loss: 1.0405 - acc: 0.5003 - val_loss: 1.0372 - val_acc: 0.5090\n",
      "Epoch 75/100\n",
      "1479/1479 [==============================] - 0s 34us/step - loss: 1.0398 - acc: 0.5003 - val_loss: 1.0372 - val_acc: 0.5090\n",
      "Epoch 76/100\n",
      "1479/1479 [==============================] - 0s 33us/step - loss: 1.0398 - acc: 0.5003 - val_loss: 1.0373 - val_acc: 0.5090\n",
      "Epoch 77/100\n",
      "1479/1479 [==============================] - 0s 34us/step - loss: 1.0393 - acc: 0.5003 - val_loss: 1.0373 - val_acc: 0.5090\n",
      "Epoch 78/100\n",
      "1479/1479 [==============================] - 0s 33us/step - loss: 1.0407 - acc: 0.5003 - val_loss: 1.0377 - val_acc: 0.5090\n",
      "Epoch 79/100\n",
      "1479/1479 [==============================] - 0s 34us/step - loss: 1.0403 - acc: 0.5003 - val_loss: 1.0373 - val_acc: 0.5090\n",
      "Epoch 80/100\n",
      "1479/1479 [==============================] - 0s 34us/step - loss: 1.0399 - acc: 0.5003 - val_loss: 1.0377 - val_acc: 0.5090\n",
      "Epoch 81/100\n",
      "1479/1479 [==============================] - 0s 33us/step - loss: 1.0401 - acc: 0.5003 - val_loss: 1.0379 - val_acc: 0.5090\n",
      "Epoch 82/100\n",
      "1479/1479 [==============================] - 0s 33us/step - loss: 1.0400 - acc: 0.5003 - val_loss: 1.0374 - val_acc: 0.5090\n",
      "Epoch 83/100\n",
      "1479/1479 [==============================] - 0s 34us/step - loss: 1.0397 - acc: 0.5003 - val_loss: 1.0375 - val_acc: 0.5090\n",
      "Epoch 84/100\n",
      "1479/1479 [==============================] - 0s 34us/step - loss: 1.0400 - acc: 0.5003 - val_loss: 1.0371 - val_acc: 0.5090\n",
      "Epoch 85/100\n",
      "1479/1479 [==============================] - 0s 34us/step - loss: 1.0403 - acc: 0.5003 - val_loss: 1.0376 - val_acc: 0.5090\n",
      "Epoch 86/100\n",
      "1479/1479 [==============================] - 0s 34us/step - loss: 1.0409 - acc: 0.5003 - val_loss: 1.0372 - val_acc: 0.5090\n",
      "Epoch 87/100\n",
      "1479/1479 [==============================] - 0s 34us/step - loss: 1.0400 - acc: 0.5003 - val_loss: 1.0369 - val_acc: 0.5090\n",
      "Epoch 88/100\n",
      "1479/1479 [==============================] - 0s 33us/step - loss: 1.0395 - acc: 0.5003 - val_loss: 1.0370 - val_acc: 0.5090\n",
      "Epoch 89/100\n",
      "1479/1479 [==============================] - 0s 34us/step - loss: 1.0399 - acc: 0.5003 - val_loss: 1.0374 - val_acc: 0.5090\n",
      "Epoch 90/100\n",
      "1479/1479 [==============================] - 0s 33us/step - loss: 1.0397 - acc: 0.5003 - val_loss: 1.0368 - val_acc: 0.5090\n",
      "Epoch 91/100\n",
      "1479/1479 [==============================] - 0s 34us/step - loss: 1.0398 - acc: 0.5003 - val_loss: 1.0367 - val_acc: 0.5090\n",
      "Epoch 92/100\n",
      "1479/1479 [==============================] - 0s 34us/step - loss: 1.0395 - acc: 0.5003 - val_loss: 1.0367 - val_acc: 0.5090\n",
      "Epoch 93/100\n",
      "1479/1479 [==============================] - 0s 34us/step - loss: 1.0395 - acc: 0.5003 - val_loss: 1.0373 - val_acc: 0.5090\n",
      "Epoch 94/100\n",
      "1479/1479 [==============================] - 0s 37us/step - loss: 1.0398 - acc: 0.5003 - val_loss: 1.0370 - val_acc: 0.5090\n",
      "Epoch 95/100\n",
      "1479/1479 [==============================] - 0s 36us/step - loss: 1.0400 - acc: 0.5003 - val_loss: 1.0373 - val_acc: 0.5090\n",
      "Epoch 96/100\n",
      "1479/1479 [==============================] - 0s 34us/step - loss: 1.0399 - acc: 0.5003 - val_loss: 1.0372 - val_acc: 0.5090\n",
      "Epoch 97/100\n",
      "1479/1479 [==============================] - 0s 42us/step - loss: 1.0400 - acc: 0.5003 - val_loss: 1.0370 - val_acc: 0.5090\n",
      "Epoch 98/100\n",
      "1479/1479 [==============================] - 0s 138us/step - loss: 1.0400 - acc: 0.5003 - val_loss: 1.0375 - val_acc: 0.5090\n",
      "Epoch 99/100\n",
      "1479/1479 [==============================] - 0s 71us/step - loss: 1.0396 - acc: 0.5003 - val_loss: 1.0371 - val_acc: 0.5090\n",
      "Epoch 100/100\n",
      "1479/1479 [==============================] - 0s 36us/step - loss: 1.0392 - acc: 0.5003 - val_loss: 1.0375 - val_acc: 0.5090\n"
     ]
    }
   ],
   "source": [
    "history = model.fit(X_train, ytrain_data_stock_1, \n",
    "                    validation_data=(X_test,ytest_data_stock_1), epochs=100, batch_size=64)"
   ]
  },
  {
   "cell_type": "markdown",
   "metadata": {},
   "source": [
    "# Prediction"
   ]
  },
  {
   "cell_type": "code",
   "execution_count": 16,
   "metadata": {
    "collapsed": true
   },
   "outputs": [],
   "source": [
    "y_pred = model.predict(X_test)\n",
    "pred = list()\n",
    "for i in range(len(y_pred)):\n",
    "    pred.append(np.argmax(y_pred[i]))\n",
    "test = list()\n",
    "for i in range(len(ytest_data_stock_1)):\n",
    "    test.append(np.argmax(ytest_data_stock_1[i]))"
   ]
  },
  {
   "cell_type": "code",
   "execution_count": 17,
   "metadata": {
    "collapsed": false
   },
   "outputs": [
    {
     "name": "stdout",
     "output_type": "stream",
     "text": [
      "Accuracy is: 50.898203592814376\n"
     ]
    }
   ],
   "source": [
    "a = accuracy_score(pred,test)\n",
    "print('Accuracy is:', a*100)"
   ]
  },
  {
   "cell_type": "code",
   "execution_count": 18,
   "metadata": {
    "collapsed": false
   },
   "outputs": [],
   "source": [
    "confusion_matrix = np.zeros([3,3])\n",
    "\n",
    "for i in range(len(pred)):\n",
    "    confusion_matrix[int(test[i]), int(pred[i])] += 1\n",
    "\n",
    "confusion_matrix_df = pd.DataFrame(confusion_matrix, columns=['Hold', 'Buy', 'Sell'],\n",
    "                                  index=['Hold', 'Buy', 'Sell'])"
   ]
  },
  {
   "cell_type": "code",
   "execution_count": 19,
   "metadata": {
    "collapsed": false
   },
   "outputs": [
    {
     "data": {
      "text/html": [
       "<div>\n",
       "<style scoped>\n",
       "    .dataframe tbody tr th:only-of-type {\n",
       "        vertical-align: middle;\n",
       "    }\n",
       "\n",
       "    .dataframe tbody tr th {\n",
       "        vertical-align: top;\n",
       "    }\n",
       "\n",
       "    .dataframe thead th {\n",
       "        text-align: right;\n",
       "    }\n",
       "</style>\n",
       "<table border=\"1\" class=\"dataframe\">\n",
       "  <thead>\n",
       "    <tr style=\"text-align: right;\">\n",
       "      <th></th>\n",
       "      <th>Hold</th>\n",
       "      <th>Buy</th>\n",
       "      <th>Sell</th>\n",
       "    </tr>\n",
       "  </thead>\n",
       "  <tbody>\n",
       "    <tr>\n",
       "      <th>Hold</th>\n",
       "      <td>85.0</td>\n",
       "      <td>0.0</td>\n",
       "      <td>0.0</td>\n",
       "    </tr>\n",
       "    <tr>\n",
       "      <th>Buy</th>\n",
       "      <td>41.0</td>\n",
       "      <td>0.0</td>\n",
       "      <td>0.0</td>\n",
       "    </tr>\n",
       "    <tr>\n",
       "      <th>Sell</th>\n",
       "      <td>40.0</td>\n",
       "      <td>1.0</td>\n",
       "      <td>0.0</td>\n",
       "    </tr>\n",
       "  </tbody>\n",
       "</table>\n",
       "</div>"
      ],
      "text/plain": [
       "      Hold  Buy  Sell\n",
       "Hold  85.0  0.0   0.0\n",
       "Buy   41.0  0.0   0.0\n",
       "Sell  40.0  1.0   0.0"
      ]
     },
     "execution_count": 19,
     "metadata": {},
     "output_type": "execute_result"
    }
   ],
   "source": [
    "confusion_matrix_df"
   ]
  },
  {
   "cell_type": "code",
   "execution_count": 20,
   "metadata": {
    "collapsed": false
   },
   "outputs": [
    {
     "data": {
      "text/plain": [
       "(85, 41, 41)"
      ]
     },
     "execution_count": 20,
     "metadata": {},
     "output_type": "execute_result"
    }
   ],
   "source": [
    "test.count(0), test.count(1), test.count(2)"
   ]
  },
  {
   "cell_type": "code",
   "execution_count": 21,
   "metadata": {
    "collapsed": false
   },
   "outputs": [
    {
     "data": {
      "text/plain": [
       "(166, 1, 0)"
      ]
     },
     "execution_count": 21,
     "metadata": {},
     "output_type": "execute_result"
    }
   ],
   "source": [
    "pred.count(0), pred.count(1), pred.count(2)"
   ]
  },
  {
   "cell_type": "code",
   "execution_count": 22,
   "metadata": {
    "collapsed": false
   },
   "outputs": [
    {
     "data": {
      "image/png": "[encoded data removed]",
      "text/plain": [
       "<Figure size 432x288 with 1 Axes>"
      ]
     },
     "metadata": {},
     "output_type": "display_data"
    }
   ],
   "source": [
    "plt.plot(history.history['acc'])\n",
    "plt.plot(history.history['val_acc'])\n",
    "plt.title('Model accuracy')\n",
    "plt.ylabel('Accuracy')\n",
    "plt.xlabel('Epoch')\n",
    "plt.legend(['Train', 'Test'], loc='upper right')\n",
    "plt.show()"
   ]
  },
  {
   "cell_type": "code",
   "execution_count": 23,
   "metadata": {
    "collapsed": false
   },
   "outputs": [
    {
     "data": {
      "image/png": "[encoded data removed]",
      "text/plain": [
       "<Figure size 432x288 with 1 Axes>"
      ]
     },
     "metadata": {},
     "output_type": "display_data"
    }
   ],
   "source": [
    "plt.plot(history.history['loss']) \n",
    "plt.plot(history.history['val_loss']) \n",
    "plt.title('Model loss') \n",
    "plt.ylabel('Loss') \n",
    "plt.xlabel('Epoch') \n",
    "plt.legend(['Train', 'Test'], loc='upper right') \n",
    "plt.show()"
   ]
  },
  {
   "cell_type": "code",
   "execution_count": 24,
   "metadata": {
    "collapsed": false
   },
   "outputs": [
    {
     "data": {
      "text/plain": [
       "<matplotlib.collections.PathCollection at 0x1a31c61240>"
      ]
     },
     "execution_count": 24,
     "metadata": {},
     "output_type": "execute_result"
    },
    {
     "data": {
      "image/png": "[encoded data removed]",
      "text/plain": [
       "<Figure size 432x288 with 1 Axes>"
      ]
     },
     "metadata": {},
     "output_type": "display_data"
    }
   ],
   "source": [
    "plt.scatter(np.arange(len(pred)), pred)"
   ]
  },
  {
   "cell_type": "code",
   "execution_count": 25,
   "metadata": {
    "collapsed": false
   },
   "outputs": [
    {
     "data": {
      "text/plain": [
       "<matplotlib.collections.PathCollection at 0x1a31c71128>"
      ]
     },
     "execution_count": 25,
     "metadata": {},
     "output_type": "execute_result"
    },
    {
     "data": {
      "image/png": "[encoded data removed]",
      "text/plain": [
       "<Figure size 432x288 with 1 Axes>"
      ]
     },
     "metadata": {},
     "output_type": "display_data"
    }
   ],
   "source": [
    "plt.scatter(np.arange(len(test)), test)"
   ]
  },
  {
   "cell_type": "code",
   "execution_count": null,
   "metadata": {
    "collapsed": true
   },
   "outputs": [],
   "source": []
  }
 ],
 "metadata": {
  "anaconda-cloud": {},
  "kernelspec": {
   "display_name": "Python [conda env:anaconda]",
   "language": "python",
   "name": "conda-env-anaconda-py"
  },
  "language_info": {
   "codemirror_mode": {
    "name": "ipython",
    "version": 3
   },
   "file_extension": ".py",
   "mimetype": "text/x-python",
   "name": "python",
   "nbconvert_exporter": "python",
   "pygments_lexer": "ipython3",
   "version": "3.5.6"
  }
 },
 "nbformat": 4,
 "nbformat_minor": 2
}
