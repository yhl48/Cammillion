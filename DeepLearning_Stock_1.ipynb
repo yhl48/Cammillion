{
 "cells": [
  {
   "cell_type": "code",
   "execution_count": 46,
   "metadata": {
    "collapsed": false
   },
   "outputs": [],
   "source": [
    "import tensorflow as tf\n",
    "import numpy as np \n",
    "import pandas as pd\n",
    "import scipy.io as sio\n",
    "from sklearn.preprocessing import OneHotEncoder\n",
    "from sklearn.metrics import accuracy_score\n",
    "from keras.models import Sequential\n",
    "from keras.layers import Dense\n",
    "import matplotlib.pyplot as plt\n",
    "\n",
    "%matplotlib inline"
   ]
  },
  {
   "cell_type": "markdown",
   "metadata": {},
   "source": [
    "# Data Processing"
   ]
  },
  {
   "cell_type": "code",
   "execution_count": 2,
   "metadata": {
    "collapsed": false
   },
   "outputs": [],
   "source": [
    "# only for one stock\n",
    "cleaned_close = sio.loadmat('../Pcleaned.mat')['P']\n",
    "macd = pd.read_csv('../macd.csv').dropna()\n",
    "rsi = pd.read_csv('../rsi.csv').dropna()\n",
    "momentum = pd.read_csv('../momentum.csv').dropna()"
   ]
  },
  {
   "cell_type": "code",
   "execution_count": 3,
   "metadata": {
    "collapsed": false
   },
   "outputs": [],
   "source": [
    "cleaned_close_stock_1 = cleaned_close[:, 0].reshape(-1,4)\n",
    "sell_indices = np.argmax(cleaned_close_stock_1, axis=1)\n",
    "buy_indices = np.argmin(cleaned_close_stock_1, axis=1)\n",
    "# buy=-1, hold=0, sell=1, \n",
    "labels = np.zeros(cleaned_close_stock_1.shape)\n",
    "labels[np.arange(len(cleaned_close_stock_1)), sell_indices] = int(2)\n",
    "labels[np.arange(len(cleaned_close_stock_1)), buy_indices] = int(1)\n",
    "cleaned_close_stock_1_df = pd.DataFrame({'Close': cleaned_close[:, 0], \n",
    "                                         'Label': labels.flatten()})"
   ]
  },
  {
   "cell_type": "code",
   "execution_count": 4,
   "metadata": {
    "collapsed": true
   },
   "outputs": [],
   "source": [
    "def label_race(row):\n",
    "    if row['Label'] == 2.0 :\n",
    "        return 'Sell'\n",
    "    elif row['Label'] == 0.0 :\n",
    "        return 'Hold'\n",
    "    elif row['Label'] == 1.0 :\n",
    "        return 'Buy'"
   ]
  },
  {
   "cell_type": "code",
   "execution_count": 5,
   "metadata": {
    "collapsed": false
   },
   "outputs": [],
   "source": [
    "cleaned_close_stock_1_df['Action'] = cleaned_close_stock_1_df.apply(lambda row: \n",
    "                                                            label_race(row), axis=1)"
   ]
  },
  {
   "cell_type": "code",
   "execution_count": 6,
   "metadata": {
    "collapsed": false
   },
   "outputs": [
    {
     "data": {
      "text/html": [
       "<div>\n",
       "<style scoped>\n",
       "    .dataframe tbody tr th:only-of-type {\n",
       "        vertical-align: middle;\n",
       "    }\n",
       "\n",
       "    .dataframe tbody tr th {\n",
       "        vertical-align: top;\n",
       "    }\n",
       "\n",
       "    .dataframe thead th {\n",
       "        text-align: right;\n",
       "    }\n",
       "</style>\n",
       "<table border=\"1\" class=\"dataframe\">\n",
       "  <thead>\n",
       "    <tr style=\"text-align: right;\">\n",
       "      <th></th>\n",
       "      <th>Close</th>\n",
       "      <th>Label</th>\n",
       "      <th>Action</th>\n",
       "    </tr>\n",
       "  </thead>\n",
       "  <tbody>\n",
       "    <tr>\n",
       "      <th>0</th>\n",
       "      <td>11.36</td>\n",
       "      <td>2.0</td>\n",
       "      <td>Sell</td>\n",
       "    </tr>\n",
       "    <tr>\n",
       "      <th>1</th>\n",
       "      <td>11.32</td>\n",
       "      <td>0.0</td>\n",
       "      <td>Hold</td>\n",
       "    </tr>\n",
       "    <tr>\n",
       "      <th>2</th>\n",
       "      <td>10.88</td>\n",
       "      <td>0.0</td>\n",
       "      <td>Hold</td>\n",
       "    </tr>\n",
       "    <tr>\n",
       "      <th>3</th>\n",
       "      <td>10.82</td>\n",
       "      <td>1.0</td>\n",
       "      <td>Buy</td>\n",
       "    </tr>\n",
       "    <tr>\n",
       "      <th>4</th>\n",
       "      <td>10.98</td>\n",
       "      <td>0.0</td>\n",
       "      <td>Hold</td>\n",
       "    </tr>\n",
       "  </tbody>\n",
       "</table>\n",
       "</div>"
      ],
      "text/plain": [
       "   Close  Label Action\n",
       "0  11.36    2.0   Sell\n",
       "1  11.32    0.0   Hold\n",
       "2  10.88    0.0   Hold\n",
       "3  10.82    1.0    Buy\n",
       "4  10.98    0.0   Hold"
      ]
     },
     "execution_count": 6,
     "metadata": {},
     "output_type": "execute_result"
    }
   ],
   "source": [
    "cleaned_close_stock_1_df.head()"
   ]
  },
  {
   "cell_type": "markdown",
   "metadata": {},
   "source": [
    "## Train Test Split"
   ]
  },
  {
   "cell_type": "code",
   "execution_count": 7,
   "metadata": {
    "collapsed": false
   },
   "outputs": [],
   "source": [
    "ytrain_data_stock_1 = cleaned_close_stock_1_df[25:int(0.8*len(cleaned_close_stock_1_df))]['Label'].values\n",
    "ytest_data_stock_1 = cleaned_close_stock_1_df[int(0.8*len(cleaned_close_stock_1_df)):-1]['Label'].values\n",
    "\n",
    "xtrain_rsi = rsi[0:int(0.8*len(cleaned_close_stock_1_df))-25]['RelativeStrengthIndex'].values\n",
    "xtest_rsi = rsi[int(0.8*len(cleaned_close_stock_1_df))-25:-1]['RelativeStrengthIndex'].values\n",
    "\n",
    "xtrain_macd = macd[0:int(0.8*len(cleaned_close_stock_1_df))-25]['Close'].values\n",
    "xtest_macd = macd[int(0.8*len(cleaned_close_stock_1_df))-25:-1]['Close'].values\n",
    "\n",
    "xtrain_momentum = momentum[0:int(0.8*len(cleaned_close_stock_1_df))-25]['Close'].values\n",
    "xtest_momentum = momentum[int(0.8*len(cleaned_close_stock_1_df))-25:-1]['Close'].values"
   ]
  },
  {
   "cell_type": "code",
   "execution_count": 8,
   "metadata": {
    "collapsed": false
   },
   "outputs": [],
   "source": [
    "ohe = OneHotEncoder(categories='auto')\n",
    "ytrain_data_stock_1 = ytrain_data_stock_1.reshape(-1, 1)\n",
    "ytrain_data_stock_1 = ohe.fit_transform(ytrain_data_stock_1).toarray()\n",
    "ytest_data_stock_1 = ytest_data_stock_1.reshape(-1, 1)\n",
    "ytest_data_stock_1 = ohe.fit_transform(ytest_data_stock_1).toarray()"
   ]
  },
  {
   "cell_type": "code",
   "execution_count": 9,
   "metadata": {
    "collapsed": false
   },
   "outputs": [],
   "source": [
    "X_train = np.array([xtrain_rsi, xtrain_macd, xtrain_momentum]).reshape(-1, 3)\n",
    "X_test = np.array([xtest_rsi, xtest_macd, xtest_momentum]).reshape(-1, 3)"
   ]
  },
  {
   "cell_type": "code",
   "execution_count": 10,
   "metadata": {
    "collapsed": false
   },
   "outputs": [
    {
     "data": {
      "text/plain": [
       "(1312, 3)"
      ]
     },
     "execution_count": 10,
     "metadata": {},
     "output_type": "execute_result"
    }
   ],
   "source": [
    "X_train.shape"
   ]
  },
  {
   "cell_type": "markdown",
   "metadata": {},
   "source": [
    "# Neural Network"
   ]
  },
  {
   "cell_type": "code",
   "execution_count": 11,
   "metadata": {
    "collapsed": false
   },
   "outputs": [],
   "source": [
    "model = Sequential()\n",
    "model.add(Dense(64, input_dim=3, activation='relu'))\n",
    "model.add(Dense(32, activation='relu'))\n",
    "model.add(Dense(3, activation='softmax'))"
   ]
  },
  {
   "cell_type": "code",
   "execution_count": 12,
   "metadata": {
    "collapsed": false
   },
   "outputs": [],
   "source": [
    "model.compile(loss='categorical_crossentropy', optimizer='adam', metrics=['accuracy'])"
   ]
  },
  {
   "cell_type": "code",
   "execution_count": 13,
   "metadata": {
    "collapsed": false
   },
   "outputs": [
    {
     "name": "stdout",
     "output_type": "stream",
     "text": [
      "Train on 1312 samples, validate on 334 samples\n",
      "Epoch 1/100\n",
      "1312/1312 [==============================] - 1s 396us/step - loss: 2.5270 - acc: 0.3994 - val_loss: 1.2772 - val_acc: 0.3503\n",
      "Epoch 2/100\n",
      "1312/1312 [==============================] - 0s 70us/step - loss: 1.1849 - acc: 0.4512 - val_loss: 1.1398 - val_acc: 0.4521\n",
      "Epoch 3/100\n",
      "1312/1312 [==============================] - 0s 69us/step - loss: 1.1227 - acc: 0.4543 - val_loss: 1.1453 - val_acc: 0.4192\n",
      "Epoch 4/100\n",
      "1312/1312 [==============================] - 0s 72us/step - loss: 1.1008 - acc: 0.4672 - val_loss: 1.0983 - val_acc: 0.4731\n",
      "Epoch 5/100\n",
      "1312/1312 [==============================] - 0s 73us/step - loss: 1.0862 - acc: 0.4710 - val_loss: 1.0983 - val_acc: 0.4760\n",
      "Epoch 6/100\n",
      "1312/1312 [==============================] - 0s 71us/step - loss: 1.0576 - acc: 0.4817 - val_loss: 1.0976 - val_acc: 0.4880\n",
      "Epoch 7/100\n",
      "1312/1312 [==============================] - 0s 71us/step - loss: 1.0447 - acc: 0.4985 - val_loss: 1.0723 - val_acc: 0.4701\n",
      "Epoch 8/100\n",
      "1312/1312 [==============================] - 0s 72us/step - loss: 1.0453 - acc: 0.4893 - val_loss: 1.0874 - val_acc: 0.4940\n",
      "Epoch 9/100\n",
      "1312/1312 [==============================] - 0s 72us/step - loss: 1.0447 - acc: 0.4931 - val_loss: 1.0573 - val_acc: 0.4940\n",
      "Epoch 10/100\n",
      "1312/1312 [==============================] - 0s 72us/step - loss: 1.0463 - acc: 0.4962 - val_loss: 1.0853 - val_acc: 0.4850\n",
      "Epoch 11/100\n",
      "1312/1312 [==============================] - 0s 71us/step - loss: 1.0526 - acc: 0.4817 - val_loss: 1.0674 - val_acc: 0.4611\n",
      "Epoch 12/100\n",
      "1312/1312 [==============================] - 0s 73us/step - loss: 1.0492 - acc: 0.4893 - val_loss: 1.0568 - val_acc: 0.4970\n",
      "Epoch 13/100\n",
      "1312/1312 [==============================] - 0s 71us/step - loss: 1.0652 - acc: 0.4802 - val_loss: 1.0732 - val_acc: 0.4491\n",
      "Epoch 14/100\n",
      "1312/1312 [==============================] - 0s 70us/step - loss: 1.0762 - acc: 0.4710 - val_loss: 1.0768 - val_acc: 0.4850\n",
      "Epoch 15/100\n",
      "1312/1312 [==============================] - 0s 73us/step - loss: 1.0683 - acc: 0.4802 - val_loss: 1.0580 - val_acc: 0.4940\n",
      "Epoch 16/100\n",
      "1312/1312 [==============================] - 0s 71us/step - loss: 1.0429 - acc: 0.4962 - val_loss: 1.0791 - val_acc: 0.4641\n",
      "Epoch 17/100\n",
      "1312/1312 [==============================] - 0s 72us/step - loss: 1.0387 - acc: 0.5000 - val_loss: 1.0590 - val_acc: 0.4940\n",
      "Epoch 18/100\n",
      "1312/1312 [==============================] - 0s 77us/step - loss: 1.0447 - acc: 0.4939 - val_loss: 1.0740 - val_acc: 0.4311\n",
      "Epoch 19/100\n",
      "1312/1312 [==============================] - 0s 72us/step - loss: 1.0456 - acc: 0.4779 - val_loss: 1.0717 - val_acc: 0.4760\n",
      "Epoch 20/100\n",
      "1312/1312 [==============================] - 0s 73us/step - loss: 1.0495 - acc: 0.4855 - val_loss: 1.0556 - val_acc: 0.5000\n",
      "Epoch 21/100\n",
      "1312/1312 [==============================] - 0s 94us/step - loss: 1.0455 - acc: 0.4954 - val_loss: 1.0556 - val_acc: 0.4880\n",
      "Epoch 22/100\n",
      "1312/1312 [==============================] - 0s 78us/step - loss: 1.0505 - acc: 0.4985 - val_loss: 1.0813 - val_acc: 0.4162\n",
      "Epoch 23/100\n",
      "1312/1312 [==============================] - 0s 69us/step - loss: 1.0531 - acc: 0.4703 - val_loss: 1.0616 - val_acc: 0.4910\n",
      "Epoch 24/100\n",
      "1312/1312 [==============================] - 0s 72us/step - loss: 1.0470 - acc: 0.4870 - val_loss: 1.0563 - val_acc: 0.4880\n",
      "Epoch 25/100\n",
      "1312/1312 [==============================] - 0s 69us/step - loss: 1.0464 - acc: 0.4878 - val_loss: 1.0620 - val_acc: 0.5000\n",
      "Epoch 26/100\n",
      "1312/1312 [==============================] - 0s 71us/step - loss: 1.0438 - acc: 0.4924 - val_loss: 1.0533 - val_acc: 0.5000\n",
      "Epoch 27/100\n",
      "1312/1312 [==============================] - 0s 72us/step - loss: 1.0399 - acc: 0.4939 - val_loss: 1.0686 - val_acc: 0.4431\n",
      "Epoch 28/100\n",
      "1312/1312 [==============================] - 0s 70us/step - loss: 1.0534 - acc: 0.4741 - val_loss: 1.0628 - val_acc: 0.4880\n",
      "Epoch 29/100\n",
      "1312/1312 [==============================] - 0s 72us/step - loss: 1.0357 - acc: 0.4985 - val_loss: 1.0688 - val_acc: 0.4222\n",
      "Epoch 30/100\n",
      "1312/1312 [==============================] - 0s 71us/step - loss: 1.0373 - acc: 0.4939 - val_loss: 1.0791 - val_acc: 0.5030\n",
      "Epoch 31/100\n",
      "1312/1312 [==============================] - 0s 71us/step - loss: 1.0440 - acc: 0.5015 - val_loss: 1.0858 - val_acc: 0.4072\n",
      "Epoch 32/100\n",
      "1312/1312 [==============================] - 0s 71us/step - loss: 1.0391 - acc: 0.4825 - val_loss: 1.0835 - val_acc: 0.4940\n",
      "Epoch 33/100\n",
      "1312/1312 [==============================] - 0s 67us/step - loss: 1.0381 - acc: 0.4977 - val_loss: 1.0556 - val_acc: 0.4940\n",
      "Epoch 34/100\n",
      "1312/1312 [==============================] - 0s 69us/step - loss: 1.0378 - acc: 0.5008 - val_loss: 1.0559 - val_acc: 0.4850\n",
      "Epoch 35/100\n",
      "1312/1312 [==============================] - 0s 68us/step - loss: 1.0303 - acc: 0.4977 - val_loss: 1.0546 - val_acc: 0.4940\n",
      "Epoch 36/100\n",
      "1312/1312 [==============================] - 0s 70us/step - loss: 1.0347 - acc: 0.4985 - val_loss: 1.0845 - val_acc: 0.4251\n",
      "Epoch 37/100\n",
      "1312/1312 [==============================] - 0s 70us/step - loss: 1.0593 - acc: 0.4741 - val_loss: 1.1082 - val_acc: 0.5000\n",
      "Epoch 38/100\n",
      "1312/1312 [==============================] - 0s 70us/step - loss: 1.0635 - acc: 0.4726 - val_loss: 1.0612 - val_acc: 0.4850\n",
      "Epoch 39/100\n",
      "1312/1312 [==============================] - 0s 71us/step - loss: 1.0315 - acc: 0.4947 - val_loss: 1.0808 - val_acc: 0.5000\n",
      "Epoch 40/100\n",
      "1312/1312 [==============================] - 0s 71us/step - loss: 1.0429 - acc: 0.4931 - val_loss: 1.0765 - val_acc: 0.4192\n",
      "Epoch 41/100\n",
      "1312/1312 [==============================] - 0s 73us/step - loss: 1.0356 - acc: 0.4870 - val_loss: 1.0555 - val_acc: 0.4880\n",
      "Epoch 42/100\n",
      "1312/1312 [==============================] - 0s 64us/step - loss: 1.0364 - acc: 0.4977 - val_loss: 1.0514 - val_acc: 0.5000\n",
      "Epoch 43/100\n",
      "1312/1312 [==============================] - 0s 62us/step - loss: 1.0381 - acc: 0.4878 - val_loss: 1.0744 - val_acc: 0.4371\n",
      "Epoch 44/100\n",
      "1312/1312 [==============================] - 0s 59us/step - loss: 1.0384 - acc: 0.4901 - val_loss: 1.0584 - val_acc: 0.4940\n",
      "Epoch 45/100\n",
      "1312/1312 [==============================] - 0s 60us/step - loss: 1.0391 - acc: 0.4901 - val_loss: 1.0578 - val_acc: 0.5000\n",
      "Epoch 46/100\n",
      "1312/1312 [==============================] - 0s 63us/step - loss: 1.0457 - acc: 0.4848 - val_loss: 1.0654 - val_acc: 0.4641\n",
      "Epoch 47/100\n",
      "1312/1312 [==============================] - 0s 64us/step - loss: 1.0429 - acc: 0.4802 - val_loss: 1.0523 - val_acc: 0.4940\n",
      "Epoch 48/100\n",
      "1312/1312 [==============================] - 0s 63us/step - loss: 1.0375 - acc: 0.4954 - val_loss: 1.0904 - val_acc: 0.4222\n",
      "Epoch 49/100\n",
      "1312/1312 [==============================] - 0s 63us/step - loss: 1.0472 - acc: 0.4809 - val_loss: 1.0545 - val_acc: 0.4880\n",
      "Epoch 50/100\n",
      "1312/1312 [==============================] - 0s 61us/step - loss: 1.0880 - acc: 0.4817 - val_loss: 1.1054 - val_acc: 0.5000\n",
      "Epoch 51/100\n",
      "1312/1312 [==============================] - 0s 63us/step - loss: 1.0418 - acc: 0.4909 - val_loss: 1.0552 - val_acc: 0.4940\n",
      "Epoch 52/100\n",
      "1312/1312 [==============================] - 0s 63us/step - loss: 1.0277 - acc: 0.5038 - val_loss: 1.0653 - val_acc: 0.4880\n",
      "Epoch 53/100\n",
      "1312/1312 [==============================] - 0s 63us/step - loss: 1.0322 - acc: 0.4962 - val_loss: 1.0557 - val_acc: 0.4970\n",
      "Epoch 54/100\n",
      "1312/1312 [==============================] - 0s 63us/step - loss: 1.0408 - acc: 0.4985 - val_loss: 1.0824 - val_acc: 0.4192\n",
      "Epoch 55/100\n",
      "1312/1312 [==============================] - 0s 64us/step - loss: 1.0393 - acc: 0.4863 - val_loss: 1.0739 - val_acc: 0.4970\n",
      "Epoch 56/100\n",
      "1312/1312 [==============================] - 0s 60us/step - loss: 1.0339 - acc: 0.5023 - val_loss: 1.0614 - val_acc: 0.5030\n",
      "Epoch 57/100\n",
      "1312/1312 [==============================] - 0s 65us/step - loss: 1.0399 - acc: 0.4977 - val_loss: 1.0667 - val_acc: 0.5030\n",
      "Epoch 58/100\n",
      "1312/1312 [==============================] - 0s 62us/step - loss: 1.0439 - acc: 0.4787 - val_loss: 1.0766 - val_acc: 0.4431\n",
      "Epoch 59/100\n",
      "1312/1312 [==============================] - 0s 62us/step - loss: 1.0427 - acc: 0.4787 - val_loss: 1.0643 - val_acc: 0.4850\n",
      "Epoch 60/100\n",
      "1312/1312 [==============================] - 0s 65us/step - loss: 1.0327 - acc: 0.4970 - val_loss: 1.0722 - val_acc: 0.5000\n",
      "Epoch 61/100\n",
      "1312/1312 [==============================] - 0s 61us/step - loss: 1.0376 - acc: 0.4970 - val_loss: 1.0629 - val_acc: 0.4850\n",
      "Epoch 62/100\n",
      "1312/1312 [==============================] - 0s 63us/step - loss: 1.0283 - acc: 0.5023 - val_loss: 1.0586 - val_acc: 0.5000\n",
      "Epoch 63/100\n",
      "1312/1312 [==============================] - 0s 63us/step - loss: 1.0443 - acc: 0.4657 - val_loss: 1.0640 - val_acc: 0.5030\n",
      "Epoch 64/100\n",
      "1312/1312 [==============================] - 0s 63us/step - loss: 1.0484 - acc: 0.4886 - val_loss: 1.0667 - val_acc: 0.4820\n",
      "Epoch 65/100\n",
      "1312/1312 [==============================] - 0s 62us/step - loss: 1.0297 - acc: 0.4947 - val_loss: 1.0569 - val_acc: 0.4910\n",
      "Epoch 66/100\n",
      "1312/1312 [==============================] - 0s 65us/step - loss: 1.0383 - acc: 0.4870 - val_loss: 1.0733 - val_acc: 0.4341\n",
      "Epoch 67/100\n",
      "1312/1312 [==============================] - 0s 66us/step - loss: 1.0459 - acc: 0.4779 - val_loss: 1.0862 - val_acc: 0.4162\n",
      "Epoch 68/100\n",
      "1312/1312 [==============================] - 0s 62us/step - loss: 1.0392 - acc: 0.4832 - val_loss: 1.0554 - val_acc: 0.4940\n",
      "Epoch 69/100\n",
      "1312/1312 [==============================] - 0s 61us/step - loss: 1.0310 - acc: 0.4977 - val_loss: 1.0521 - val_acc: 0.5000\n",
      "Epoch 70/100\n",
      "1312/1312 [==============================] - 0s 61us/step - loss: 1.0362 - acc: 0.5053 - val_loss: 1.0593 - val_acc: 0.4910\n",
      "Epoch 71/100\n",
      "1312/1312 [==============================] - 0s 65us/step - loss: 1.0311 - acc: 0.5023 - val_loss: 1.0621 - val_acc: 0.4671\n",
      "Epoch 72/100\n",
      "1312/1312 [==============================] - 0s 60us/step - loss: 1.0306 - acc: 0.4947 - val_loss: 1.0664 - val_acc: 0.4850\n",
      "Epoch 73/100\n",
      "1312/1312 [==============================] - 0s 66us/step - loss: 1.0336 - acc: 0.4916 - val_loss: 1.0597 - val_acc: 0.4880\n",
      "Epoch 74/100\n",
      "1312/1312 [==============================] - 0s 60us/step - loss: 1.0301 - acc: 0.5038 - val_loss: 1.0508 - val_acc: 0.5030\n",
      "Epoch 75/100\n",
      "1312/1312 [==============================] - 0s 64us/step - loss: 1.0257 - acc: 0.5015 - val_loss: 1.0573 - val_acc: 0.4850\n",
      "Epoch 76/100\n",
      "1312/1312 [==============================] - 0s 64us/step - loss: 1.0363 - acc: 0.4962 - val_loss: 1.0559 - val_acc: 0.4880\n",
      "Epoch 77/100\n",
      "1312/1312 [==============================] - 0s 62us/step - loss: 1.0242 - acc: 0.5030 - val_loss: 1.0755 - val_acc: 0.4251\n",
      "Epoch 78/100\n",
      "1312/1312 [==============================] - 0s 62us/step - loss: 1.0362 - acc: 0.4893 - val_loss: 1.0547 - val_acc: 0.4940\n",
      "Epoch 79/100\n",
      "1312/1312 [==============================] - 0s 65us/step - loss: 1.0339 - acc: 0.4809 - val_loss: 1.0562 - val_acc: 0.4970\n",
      "Epoch 80/100\n",
      "1312/1312 [==============================] - 0s 63us/step - loss: 1.0449 - acc: 0.4794 - val_loss: 1.1128 - val_acc: 0.5000\n",
      "Epoch 81/100\n",
      "1312/1312 [==============================] - 0s 61us/step - loss: 1.0387 - acc: 0.4878 - val_loss: 1.0914 - val_acc: 0.4042\n",
      "Epoch 82/100\n",
      "1312/1312 [==============================] - 0s 64us/step - loss: 1.0366 - acc: 0.4985 - val_loss: 1.0792 - val_acc: 0.4910\n",
      "Epoch 83/100\n",
      "1312/1312 [==============================] - 0s 62us/step - loss: 1.0466 - acc: 0.4756 - val_loss: 1.0959 - val_acc: 0.4132\n",
      "Epoch 84/100\n",
      "1312/1312 [==============================] - 0s 63us/step - loss: 1.0323 - acc: 0.4901 - val_loss: 1.0697 - val_acc: 0.4850\n",
      "Epoch 85/100\n",
      "1312/1312 [==============================] - 0s 64us/step - loss: 1.0310 - acc: 0.4977 - val_loss: 1.0752 - val_acc: 0.4581\n",
      "Epoch 86/100\n",
      "1312/1312 [==============================] - 0s 65us/step - loss: 1.0282 - acc: 0.5000 - val_loss: 1.0689 - val_acc: 0.4970\n",
      "Epoch 87/100\n",
      "1312/1312 [==============================] - 0s 62us/step - loss: 1.0382 - acc: 0.4893 - val_loss: 1.0739 - val_acc: 0.4611\n",
      "Epoch 88/100\n",
      "1312/1312 [==============================] - 0s 62us/step - loss: 1.0394 - acc: 0.4954 - val_loss: 1.0644 - val_acc: 0.4850\n",
      "Epoch 89/100\n",
      "1312/1312 [==============================] - 0s 62us/step - loss: 1.0320 - acc: 0.5000 - val_loss: 1.0607 - val_acc: 0.4820\n",
      "Epoch 90/100\n",
      "1312/1312 [==============================] - 0s 60us/step - loss: 1.0318 - acc: 0.4977 - val_loss: 1.0576 - val_acc: 0.4820\n",
      "Epoch 91/100\n",
      "1312/1312 [==============================] - 0s 64us/step - loss: 1.0269 - acc: 0.5069 - val_loss: 1.0532 - val_acc: 0.4850\n",
      "Epoch 92/100\n",
      "1312/1312 [==============================] - 0s 61us/step - loss: 1.0232 - acc: 0.5084 - val_loss: 1.0532 - val_acc: 0.4970\n",
      "Epoch 93/100\n",
      "1312/1312 [==============================] - 0s 65us/step - loss: 1.0222 - acc: 0.5046 - val_loss: 1.0558 - val_acc: 0.4910\n",
      "Epoch 94/100\n",
      "1312/1312 [==============================] - 0s 62us/step - loss: 1.0352 - acc: 0.4916 - val_loss: 1.0631 - val_acc: 0.4850\n",
      "Epoch 95/100\n",
      "1312/1312 [==============================] - 0s 63us/step - loss: 1.0375 - acc: 0.4939 - val_loss: 1.0667 - val_acc: 0.4641\n",
      "Epoch 96/100\n",
      "1312/1312 [==============================] - 0s 63us/step - loss: 1.0315 - acc: 0.4947 - val_loss: 1.0774 - val_acc: 0.4850\n",
      "Epoch 97/100\n",
      "1312/1312 [==============================] - 0s 66us/step - loss: 1.0263 - acc: 0.5061 - val_loss: 1.0612 - val_acc: 0.4850\n",
      "Epoch 98/100\n",
      "1312/1312 [==============================] - 0s 62us/step - loss: 1.0289 - acc: 0.4924 - val_loss: 1.0689 - val_acc: 0.4581\n",
      "Epoch 99/100\n",
      "1312/1312 [==============================] - 0s 62us/step - loss: 1.0336 - acc: 0.4848 - val_loss: 1.0793 - val_acc: 0.4880\n",
      "Epoch 100/100\n",
      "1312/1312 [==============================] - 0s 64us/step - loss: 1.0373 - acc: 0.4947 - val_loss: 1.0589 - val_acc: 0.4790\n"
     ]
    }
   ],
   "source": [
    "history = model.fit(X_train, ytrain_data_stock_1, \n",
    "                    validation_data=(X_test,ytest_data_stock_1), epochs=100, batch_size=64)"
   ]
  },
  {
   "cell_type": "markdown",
   "metadata": {},
   "source": [
    "# Prediction"
   ]
  },
  {
   "cell_type": "code",
   "execution_count": 29,
   "metadata": {
    "collapsed": true
   },
   "outputs": [],
   "source": [
    "y_pred = model.predict(X_test)\n",
    "pred = list()\n",
    "for i in range(len(y_pred)):\n",
    "    pred.append(np.argmax(y_pred[i]))\n",
    "test = list()\n",
    "for i in range(len(ytest_data_stock_1)):\n",
    "    test.append(np.argmax(ytest_data_stock_1[i]))"
   ]
  },
  {
   "cell_type": "code",
   "execution_count": 30,
   "metadata": {
    "collapsed": false
   },
   "outputs": [
    {
     "name": "stdout",
     "output_type": "stream",
     "text": [
      "Accuracy is: 47.90419161676647\n"
     ]
    }
   ],
   "source": [
    "a = accuracy_score(pred,test)\n",
    "print('Accuracy is:', a*100)"
   ]
  },
  {
   "cell_type": "code",
   "execution_count": 58,
   "metadata": {
    "collapsed": false
   },
   "outputs": [],
   "source": [
    "confusion_matrix = np.zeros([3,3])\n",
    "\n",
    "for i in range(len(pred)):\n",
    "    confusion_matrix[int(test[i]), int(pred[i])] += 1\n",
    "\n",
    "confusion_matrix_df = pd.DataFrame(confusion_matrix, columns=['Hold', 'Buy', 'Sell'],\n",
    "                                  index=['Hold', 'Buy', 'Sell'])"
   ]
  },
  {
   "cell_type": "code",
   "execution_count": 59,
   "metadata": {
    "collapsed": false
   },
   "outputs": [
    {
     "data": {
      "text/html": [
       "<div>\n",
       "<style scoped>\n",
       "    .dataframe tbody tr th:only-of-type {\n",
       "        vertical-align: middle;\n",
       "    }\n",
       "\n",
       "    .dataframe tbody tr th {\n",
       "        vertical-align: top;\n",
       "    }\n",
       "\n",
       "    .dataframe thead th {\n",
       "        text-align: right;\n",
       "    }\n",
       "</style>\n",
       "<table border=\"1\" class=\"dataframe\">\n",
       "  <thead>\n",
       "    <tr style=\"text-align: right;\">\n",
       "      <th></th>\n",
       "      <th>Hold</th>\n",
       "      <th>Buy</th>\n",
       "      <th>Sell</th>\n",
       "    </tr>\n",
       "  </thead>\n",
       "  <tbody>\n",
       "    <tr>\n",
       "      <th>Hold</th>\n",
       "      <td>153.0</td>\n",
       "      <td>3.0</td>\n",
       "      <td>13.0</td>\n",
       "    </tr>\n",
       "    <tr>\n",
       "      <th>Buy</th>\n",
       "      <td>75.0</td>\n",
       "      <td>2.0</td>\n",
       "      <td>6.0</td>\n",
       "    </tr>\n",
       "    <tr>\n",
       "      <th>Sell</th>\n",
       "      <td>77.0</td>\n",
       "      <td>0.0</td>\n",
       "      <td>5.0</td>\n",
       "    </tr>\n",
       "  </tbody>\n",
       "</table>\n",
       "</div>"
      ],
      "text/plain": [
       "       Hold  Buy  Sell\n",
       "Hold  153.0  3.0  13.0\n",
       "Buy    75.0  2.0   6.0\n",
       "Sell   77.0  0.0   5.0"
      ]
     },
     "execution_count": 59,
     "metadata": {},
     "output_type": "execute_result"
    }
   ],
   "source": [
    "confusion_matrix_df"
   ]
  },
  {
   "cell_type": "code",
   "execution_count": 66,
   "metadata": {
    "collapsed": false
   },
   "outputs": [
    {
     "data": {
      "text/plain": [
       "(169, 83, 82)"
      ]
     },
     "execution_count": 66,
     "metadata": {},
     "output_type": "execute_result"
    }
   ],
   "source": [
    "test.count(0), test.count(1), test.count(2)"
   ]
  },
  {
   "cell_type": "code",
   "execution_count": 67,
   "metadata": {
    "collapsed": false
   },
   "outputs": [
    {
     "data": {
      "text/plain": [
       "(305, 5, 24)"
      ]
     },
     "execution_count": 67,
     "metadata": {},
     "output_type": "execute_result"
    }
   ],
   "source": [
    "pred.count(0), pred.count(1), pred.count(2)"
   ]
  },
  {
   "cell_type": "code",
   "execution_count": 63,
   "metadata": {
    "collapsed": false
   },
   "outputs": [
    {
     "data": {
      "image/png": "[encoded data removed]",
      "text/plain": [
       "<Figure size 432x288 with 1 Axes>"
      ]
     },
     "metadata": {},
     "output_type": "display_data"
    }
   ],
   "source": [
    "plt.plot(history.history['acc'])\n",
    "plt.plot(history.history['val_acc'])\n",
    "plt.title('Model accuracy')\n",
    "plt.ylabel('Accuracy')\n",
    "plt.xlabel('Epoch')\n",
    "plt.legend(['Train', 'Test'], loc='upper right')\n",
    "plt.show()"
   ]
  },
  {
   "cell_type": "code",
   "execution_count": 60,
   "metadata": {
    "collapsed": false
   },
   "outputs": [
    {
     "data": {
      "image/png": "[encoded data removed]",
      "text/plain": [
       "<Figure size 432x288 with 1 Axes>"
      ]
     },
     "metadata": {},
     "output_type": "display_data"
    }
   ],
   "source": [
    "plt.plot(history.history['loss']) \n",
    "plt.plot(history.history['val_loss']) \n",
    "plt.title('Model loss') \n",
    "plt.ylabel('Loss') \n",
    "plt.xlabel('Epoch') \n",
    "plt.legend(['Train', 'Test'], loc='upper right') \n",
    "plt.show()"
   ]
  },
  {
   "cell_type": "code",
   "execution_count": 18,
   "metadata": {
    "collapsed": false
   },
   "outputs": [
    {
     "data": {
      "text/plain": [
       "<matplotlib.collections.PathCollection at 0x1a34ef8438>"
      ]
     },
     "execution_count": 18,
     "metadata": {},
     "output_type": "execute_result"
    },
    {
     "data": {
      "image/png": "[encoded data removed]",
      "text/plain": [
       "<Figure size 432x288 with 1 Axes>"
      ]
     },
     "metadata": {},
     "output_type": "display_data"
    }
   ],
   "source": [
    "plt.scatter(np.arange(len(pred)), pred)"
   ]
  },
  {
   "cell_type": "code",
   "execution_count": 19,
   "metadata": {
    "collapsed": false
   },
   "outputs": [
    {
     "data": {
      "text/plain": [
       "<matplotlib.collections.PathCollection at 0x1a3519c240>"
      ]
     },
     "execution_count": 19,
     "metadata": {},
     "output_type": "execute_result"
    },
    {
     "data": {
      "image/png": "[encoded data removed]",
      "text/plain": [
       "<Figure size 432x288 with 1 Axes>"
      ]
     },
     "metadata": {},
     "output_type": "display_data"
    }
   ],
   "source": [
    "plt.scatter(np.arange(len(test)), test)"
   ]
  },
  {
   "cell_type": "code",
   "execution_count": null,
   "metadata": {
    "collapsed": true
   },
   "outputs": [],
   "source": []
  }
 ],
 "metadata": {
  "anaconda-cloud": {},
  "kernelspec": {
   "display_name": "Python [conda env:anaconda]",
   "language": "python",
   "name": "conda-env-anaconda-py"
  },
  "language_info": {
   "codemirror_mode": {
    "name": "ipython",
    "version": 3
   },
   "file_extension": ".py",
   "mimetype": "text/x-python",
   "name": "python",
   "nbconvert_exporter": "python",
   "pygments_lexer": "ipython3",
   "version": "3.5.6"
  }
 },
 "nbformat": 4,
 "nbformat_minor": 2
}
