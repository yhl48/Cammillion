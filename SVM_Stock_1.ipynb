{
 "cells": [
  {
   "cell_type": "code",
   "execution_count": 1,
   "metadata": {
    "collapsed": false
   },
   "outputs": [],
   "source": [
    "import numpy as np \n",
    "import pandas as pd\n",
    "import scipy.io as sio\n",
    "from sklearn.preprocessing import StandardScaler\n",
    "from sklearn.model_selection import GridSearchCV\n",
    "from sklearn.svm import SVR\n",
    "from sklearn.metrics import mean_squared_error\n",
    "from math import sqrt\n",
    "import matplotlib.pyplot as plt\n",
    "import seaborn as sns\n",
    "\n",
    "%matplotlib inline\n",
    "\n",
    "sns.set(rc={'figure.figsize':(11.7,8.27)})"
   ]
  },
  {
   "cell_type": "markdown",
   "metadata": {},
   "source": [
    "# Data Processing"
   ]
  },
  {
   "cell_type": "code",
   "execution_count": 2,
   "metadata": {
    "collapsed": true
   },
   "outputs": [],
   "source": [
    "cleaned_close = sio.loadmat('../Pcleaned.mat')['P']\n",
    "cleaned_close_stock_1_raw = cleaned_close[25:, 0]\n",
    "cleaned_close_stock_1_df = pd.DataFrame({'Close': cleaned_close_stock_1_raw})\n",
    "macd_raw = pd.read_csv('../macd.csv').dropna()\n",
    "rsi_raw = pd.read_csv('../rsi.csv').dropna()\n",
    "momentum_raw = pd.read_csv('../momentum.csv').dropna()"
   ]
  },
  {
   "cell_type": "code",
   "execution_count": 3,
   "metadata": {
    "collapsed": true
   },
   "outputs": [],
   "source": [
    "macd = macd_raw['Close'].values.reshape(-1,1)\n",
    "rsi = rsi_raw['RelativeStrengthIndex'].values.reshape(-1,1)\n",
    "momentum = momentum_raw['Close'].values.reshape(-1,1)\n",
    "cleaned_close_stock_1 = cleaned_close_stock_1_raw.reshape(-1,1)"
   ]
  },
  {
   "cell_type": "code",
   "execution_count": 4,
   "metadata": {
    "collapsed": false
   },
   "outputs": [],
   "source": [
    "X = np.array([macd, rsi, momentum]).reshape(-1,3)"
   ]
  },
  {
   "cell_type": "markdown",
   "metadata": {},
   "source": [
    "# Train Test Split"
   ]
  },
  {
   "cell_type": "code",
   "execution_count": 5,
   "metadata": {
    "collapsed": true
   },
   "outputs": [],
   "source": [
    "train_proportion = 0.9"
   ]
  },
  {
   "cell_type": "code",
   "execution_count": 6,
   "metadata": {
    "collapsed": false
   },
   "outputs": [],
   "source": [
    "X_train = X[0:int(train_proportion*X.shape[0]), :]\n",
    "X_test = X[int(train_proportion*X.shape[0]):, :]\n",
    "\n",
    "y_train = cleaned_close_stock_1[0:int(train_proportion*X.shape[0])]\n",
    "y_test = cleaned_close_stock_1[int(train_proportion*X.shape[0]):]"
   ]
  },
  {
   "cell_type": "code",
   "execution_count": null,
   "metadata": {
    "collapsed": true
   },
   "outputs": [],
   "source": [
    "scaler_X_train = StandardScaler()\n",
    "X_train = scaler_X_train.fit_transform(X_train)\n",
    "\n",
    "scaler_X_test = StandardScaler()\n",
    "X_test = scaler_X_test.fit_transform(X_test)\n",
    "\n",
    "scaler_y_train = StandardScaler()\n",
    "y_train = scaler_y_train.fit_transform(y_train.reshape(-1,1))\n",
    "\n",
    "scaler_y_test = StandardScaler()\n",
    "y_test = scaler_y_test.fit_transform(y_test.reshape(-1,1))"
   ]
  },
  {
   "cell_type": "markdown",
   "metadata": {},
   "source": [
    "# Support Vector Regression"
   ]
  },
  {
   "cell_type": "markdown",
   "metadata": {},
   "source": [
    "## Implement a grid search "
   ]
  },
  {
   "cell_type": "code",
   "execution_count": null,
   "metadata": {
    "collapsed": false
   },
   "outputs": [],
   "source": [
    "parameters = {'kernel':('linear', 'rbf', 'poly'), 'C':np.arange(0.1, 1, 0.1), \n",
    "              'epsilon':np.linspace(0.000001, 1, 10)}\n",
    "regressor = SVR(gamma='scale')\n",
    "rgs = GridSearchCV(regressor, parameters, cv=3, scoring='neg_mean_squared_error')\n",
    "rgs.fit(X_train,y_train.ravel())"
   ]
  },
  {
   "cell_type": "code",
   "execution_count": null,
   "metadata": {
    "collapsed": false
   },
   "outputs": [],
   "source": [
    "rgs.best_score_, rgs.best_params_, rgs.best_estimator_"
   ]
  },
  {
   "cell_type": "code",
   "execution_count": null,
   "metadata": {
    "collapsed": false
   },
   "outputs": [],
   "source": [
    "# why doesn't this agree with the best_params_\n",
    "rgs.get_params()"
   ]
  },
  {
   "cell_type": "code",
   "execution_count": null,
   "metadata": {
    "collapsed": false
   },
   "outputs": [],
   "source": [
    "y_pred_best = rgs.predict(X_test)"
   ]
  },
  {
   "cell_type": "code",
   "execution_count": null,
   "metadata": {
    "collapsed": false
   },
   "outputs": [],
   "source": [
    "plt.plot(y_pred_best, label='Pred')\n",
    "plt.plot(y_test, label='True')\n",
    "plt.legend()"
   ]
  },
  {
   "cell_type": "markdown",
   "metadata": {},
   "source": [
    "## Without grid search "
   ]
  },
  {
   "cell_type": "code",
   "execution_count": null,
   "metadata": {
    "collapsed": false
   },
   "outputs": [],
   "source": [
    "regressor = SVR(kernel='rbf', gamma='scale', epsilon=0.000001, C=.3)\n",
    "regressor.fit(X_train,y_train.ravel())"
   ]
  },
  {
   "cell_type": "code",
   "execution_count": null,
   "metadata": {
    "collapsed": false
   },
   "outputs": [],
   "source": [
    "# y_pred = scaler_y_test.inverse_transform(regressor.predict(X_test))\n",
    "# y_pred = scaler_y_train.inverse_transform(regressor.predict(X_test))\n",
    "# y_test = scaler_y_test.inverse_transform(y_test)"
   ]
  },
  {
   "cell_type": "code",
   "execution_count": null,
   "metadata": {
    "collapsed": true
   },
   "outputs": [],
   "source": [
    "y_pred = regressor.predict(X_test)"
   ]
  },
  {
   "cell_type": "code",
   "execution_count": null,
   "metadata": {
    "collapsed": false
   },
   "outputs": [],
   "source": [
    "plt.plot(y_pred, label='Pred')\n",
    "plt.plot(y_test, label='True')\n",
    "plt.legend()"
   ]
  },
  {
   "cell_type": "code",
   "execution_count": null,
   "metadata": {
    "collapsed": false
   },
   "outputs": [],
   "source": [
    "rms = sqrt(mean_squared_error(y_test, y_pred))\n",
    "rms, np.mean(y_test), np.mean(y_pred)"
   ]
  }
 ],
 "metadata": {
  "anaconda-cloud": {},
  "kernelspec": {
   "display_name": "Python [conda env:anaconda]",
   "language": "python",
   "name": "conda-env-anaconda-py"
  },
  "language_info": {
   "codemirror_mode": {
    "name": "ipython",
    "version": 3
   },
   "file_extension": ".py",
   "mimetype": "text/x-python",
   "name": "python",
   "nbconvert_exporter": "python",
   "pygments_lexer": "ipython3",
   "version": "3.5.6"
  }
 },
 "nbformat": 4,
 "nbformat_minor": 2
}
